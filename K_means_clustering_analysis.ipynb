{
  "nbformat": 4,
  "nbformat_minor": 0,
  "metadata": {
    "colab": {
      "provenance": []
    },
    "kernelspec": {
      "name": "python3",
      "display_name": "Python 3"
    },
    "language_info": {
      "name": "python"
    }
  },
  "cells": [
    {
      "cell_type": "markdown",
      "source": [
        "# Clustring Analysis Using K-means Algorithm"
      ],
      "metadata": {
        "id": "WQNaG_2THgnr"
      }
    },
    {
      "cell_type": "markdown",
      "source": [
        "Import necessary libraries: The code starts by importing libraries like numpy for numerical operations, matplotlib.pyplot for plotting, sklearn.datasets to load the digits dataset, sklearn.preprocessing for scaling the data, and sklearn.metrics to evaluate the clustering results.\n",
        "\n",
        "Load and preprocess data: It loads the digits dataset, which is a collection of handwritten digits. The data is then scaled using scale() to standardize the features, which is often beneficial for clustering algorithms.\n",
        "Define variables: Several variables are defined to store information about the dataset, such as the number of samples, features, and unique digits. labels stores the true labels of the digits. sample_size is used for the silhouette score calculation.\n",
        "\n",
        "Define bench_k_means function: This function takes a clustering estimator (like KMeans), a name for the estimator, and the data as input. It fits the estimator to the data, measures the time taken for fitting, and then calculates and prints various clustering evaluation metrics:\n",
        "Inertia: A measure of how internally coherent clusters are. Lower inertia is better.\n",
        "Homogeneity Score: Measures if each cluster contains only data points belonging to a single class.\n",
        "\n",
        "Completeness Score: Measures if all data points belonging to a given class are assigned to the same cluster.\n",
        "\n",
        "V-measure Score: The harmonic mean of homogeneity and completeness.\n",
        "Adjusted Rand Score (ARI): Measures the similarity between the true labels and the cluster assignments, adjusted for chance.\n",
        "\n",
        "Adjusted Mutual Info Score (AMI): Similar to ARI, measures the agreement between the true labels and cluster assignments, adjusted for chance.\n",
        "\n",
        "Silhouette Score: Measures how similar a data point is to its own cluster compared to other clusters. Higher silhouette scores indicate better-defined clusters.\n",
        "\n",
        "\n",
        "\n"
      ],
      "metadata": {
        "id": "ofIX7T2VI43a"
      }
    },
    {
      "cell_type": "code",
      "execution_count": 15,
      "metadata": {
        "colab": {
          "base_uri": "https://localhost:8080/"
        },
        "id": "MHMhfoa8zbbC",
        "outputId": "a2e21adf-1eb2-41ad-a6b3-b6fb59e64c18"
      },
      "outputs": [
        {
          "output_type": "stream",
          "name": "stdout",
          "text": [
            "n_digits: 10,\t n_samples 1797,\t n_features 64\n",
            "_______________________________________________________________________________\n",
            "     init time inertia compl v-meas ARI AMI silhouette\n"
          ]
        }
      ],
      "source": [
        "from time import time\n",
        "import numpy as np\n",
        "import matplotlib.pyplot as plt\n",
        "from sklearn.datasets import load_digits\n",
        "from sklearn.preprocessing import scale\n",
        "from sklearn import metrics\n",
        "\n",
        "np.random.seed(42)\n",
        "\n",
        "digits = load_digits()\n",
        "data = scale(digits.data)\n",
        "n_samples, n_features = data.shape\n",
        "n_digits = len(np.unique(digits.target))\n",
        "labels = digits.target\n",
        "\n",
        "sample_size = 300\n",
        "\n",
        "print(\"n_digits: %d,\\t n_samples %d,\\t n_features %d\" % (n_digits, n_samples, n_features))\n",
        "print(79 * '_')\n",
        "print('%9s' % 'init', 'time', 'inertia', 'compl', 'v-meas', 'ARI', 'AMI', 'silhouette')\n",
        "\n",
        "def bench_k_means(estimator, name, data):\n",
        "    t0 = time()\n",
        "    estimator.fit(data)\n",
        "    print('%9s' % name, '%.2fs' % (time() - t0), '%i' % estimator.inertia_,\n",
        "          '%.3f' % metrics.homogeneity_score(labels, estimator.labels_),\n",
        "          '%.3f' % metrics.completeness_score(labels, estimator.labels_),\n",
        "          '%.3f' % metrics.v_measure_score(labels, estimator.labels_),\n",
        "          '%.3f' % metrics.adjusted_rand_score(labels, estimator.labels_),\n",
        "          '%.3f' % metrics.adjusted_mutual_info_score(labels, estimator.labels_),\n",
        "          '%.3f' % metrics.silhouette_score(data, estimator.labels_, sample_size=sample_size))"
      ]
    },
    {
      "cell_type": "code",
      "source": [],
      "metadata": {
        "id": "iSmunTpoC4si"
      },
      "execution_count": null,
      "outputs": []
    },
    {
      "cell_type": "code",
      "source": [
        "from sklearn.cluster import KMeans\n",
        "\n",
        "bench_k_means(KMeans(init='k-means++', n_clusters=n_digits, n_init=10), name=\"k-means++\", data=data)\n",
        "print(79 * '_')"
      ],
      "metadata": {
        "colab": {
          "base_uri": "https://localhost:8080/"
        },
        "id": "EheZjIGm8G24",
        "outputId": "29d752c7-a17e-48fc-b08b-11d35929f982"
      },
      "execution_count": 12,
      "outputs": [
        {
          "output_type": "stream",
          "name": "stdout",
          "text": [
            "k-means++ 0.18s 69813 0.650 0.694 0.671 0.534 0.668 0.123\n",
            "_______________________________________________________________________________\n"
          ]
        }
      ]
    },
    {
      "cell_type": "code",
      "source": [],
      "metadata": {
        "id": "d_dDi4Qf9MpC"
      },
      "execution_count": 12,
      "outputs": []
    },
    {
      "cell_type": "markdown",
      "source": [
        "## code for PCA-reduce dataset"
      ],
      "metadata": {
        "id": "jTTRt4U-KNwA"
      }
    },
    {
      "cell_type": "code",
      "source": [
        "import numpy as np\n",
        "from sklearn.cluster import KMeans\n",
        "from sklearn.datasets import load_digits\n",
        "from scipy.spatial.distance import cdist\n",
        "import matplotlib.pyplot as plt\n",
        "from sklearn.decomposition import PCA\n",
        "from sklearn.preprocessing import scale\n",
        "\n",
        "digits = load_digits()\n",
        "data = scale(digits.data)\n",
        "n_samples, n_features = data.shape\n",
        "n_digits = len(np.unique(digits.target))\n",
        "labels = digits.target\n",
        "K = range(1,20)\n",
        "meandistortions = []\n",
        "for k in K:\n",
        "  reduce_data = PCA(n_components=2).fit_transform(data)\n",
        "  kmeans = KMeans(init='k-means++', n_clusters=k, n_init=10, random_state=42)\n",
        "  kmeans.fit(reduce_data)\n",
        "  meandistortions.append(sum(np.min(cdist(reduce_data, kmeans.cluster_centers_, 'euclidean'), axis=1)) / reduce_data.shape[0])\n",
        "plt.xlabel('k')\n",
        "plt.ylabel('Mean Distortion')\n",
        "plt.title('Elbow Method for Optimal k')\n",
        "plt.show()"
      ],
      "metadata": {
        "colab": {
          "base_uri": "https://localhost:8080/",
          "height": 472
        },
        "id": "QMwt1r3o9x2n",
        "outputId": "e470d64b-2300-4d5f-b69a-61bb47c3508f"
      },
      "execution_count": 14,
      "outputs": [
        {
          "output_type": "display_data",
          "data": {
            "text/plain": [
              "<Figure size 640x480 with 1 Axes>"
            ],
            "image/png": "[encoded data removed]"
          },
          "metadata": {}
        }
      ]
    },
    {
      "cell_type": "code",
      "source": [],
      "metadata": {
        "id": "C1X2YPqGCUKT"
      },
      "execution_count": null,
      "outputs": []
    },
    {
      "cell_type": "markdown",
      "source": [],
      "metadata": {
        "id": "1fh-LPMhHaaG"
      }
    }
  ]
}